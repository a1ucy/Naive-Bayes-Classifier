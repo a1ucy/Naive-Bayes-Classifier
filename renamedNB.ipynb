{
 "cells": [
  {
   "cell_type": "code",
   "execution_count": 1,
   "metadata": {},
   "outputs": [
    {
     "ename": "ModuleNotFoundError",
     "evalue": "No module named 'geneNewData'",
     "output_type": "error",
     "traceback": [
      "\u001b[0;31m---------------------------------------------------------------------------\u001b[0m",
      "\u001b[0;31mModuleNotFoundError\u001b[0m                       Traceback (most recent call last)",
      "Cell \u001b[0;32mIn [1], line 4\u001b[0m\n\u001b[1;32m      2\u001b[0m \u001b[39mimport\u001b[39;00m \u001b[39mscipy\u001b[39;00m\u001b[39m.\u001b[39;00m\u001b[39mio\u001b[39;00m\n\u001b[1;32m      3\u001b[0m \u001b[39mimport\u001b[39;00m \u001b[39mmath\u001b[39;00m\n\u001b[0;32m----> 4\u001b[0m \u001b[39mimport\u001b[39;00m \u001b[39mgeneNewData\u001b[39;00m\n\u001b[1;32m      6\u001b[0m \u001b[39mdef\u001b[39;00m \u001b[39mmain\u001b[39m():\n\u001b[1;32m      7\u001b[0m     myID\u001b[39m=\u001b[39m\u001b[39m'\u001b[39m\u001b[39m6766\u001b[39m\u001b[39m'\u001b[39m\n",
      "\u001b[0;31mModuleNotFoundError\u001b[0m: No module named 'geneNewData'"
     ]
    }
   ],
   "source": [
    "import numpy as np\n",
    "import scipy.io\n",
    "import math\n",
    "import geneNewData\n",
    "\n",
    "def main():\n",
    "    myID='6766'\n",
    "    geneNewData.geneData(myID)\n",
    "    Numpyfile0 = scipy.io.loadmat('digit0_stu_train'+myID+'.mat')\n",
    "    Numpyfile1 = scipy.io.loadmat('digit1_stu_train'+myID+'.mat')\n",
    "    Numpyfile2 = scipy.io.loadmat('digit0_testset'+'.mat')\n",
    "    Numpyfile3 = scipy.io.loadmat('digit1_testset'+'.mat')\n",
    "    train0 = Numpyfile0.get('target_img')\n",
    "    train1 = Numpyfile1.get('target_img')\n",
    "    test0 = Numpyfile2.get('target_img')\n",
    "    test1 = Numpyfile3.get('target_img')\n",
    "    print([len(train0),len(train1),len(test0),len(test1)])\n",
    "    print('Your trainset and testset are generated successfully!')\n",
    "    \n",
    "    feature1_digit0 = [np.mean(i) for i in train0]\n",
    "    feature2_digit0 = [np.std(i) for i in train0]\n",
    "    feature1_digit1 = [np.mean(i) for i in train1]\n",
    "    feature2_digit1 = [np.std(i) for i in train1]\n",
    "    \n",
    "    Mean_of_feature1_for_digit0 = np.mean(feature1_digit0)\n",
    "    Variance_of_feature1_for_digit0 = np.var(feature1_digit0)\n",
    "    Mean_of_feature2_for_digit0 = np.mean(feature2_digit0)\n",
    "    Variance_of_feature2_for_digit0 = np.var(feature2_digit0)\n",
    "    Mean_of_feature1_for_digit1 = np.mean(feature1_digit1)\n",
    "    Variance_of_feature1_for_digit1 = np.var(feature1_digit1)\n",
    "    Mean_of_feature2_for_digit1 = np.mean(feature2_digit1)\n",
    "    Variance_of_feature2_for_digit1 = np.var(feature2_digit1)\n",
    "    \n",
    "    test_feature1_digit0 = [np.mean(i) for i in test0]\n",
    "    test_feature2_digit0 = [np.std(i) for i in test0]\n",
    "    test_feature1_digit1 = [np.mean(i) for i in test1]\n",
    "    test_feature2_digit1 = [np.std(i) for i in test1]\n",
    "    \n",
    "    def guassian(data, mean, std):\n",
    "        return (1 / (math.sqrt(2 * math.pi * std)) * math.exp(-(data-mean)**2 / (2 * std )))\n",
    "    \n",
    "    count_0 = 0\n",
    "    for i in range(len(test_feature1_digit0)):\n",
    "        p_ft1_0 = guassian(test_feature1_digit0[i],Mean_of_feature1_for_digit0,Variance_of_feature1_for_digit0)\n",
    "        p_ft2_0 = guassian(test_feature2_digit0[i],Mean_of_feature2_for_digit0,Variance_of_feature2_for_digit0)\n",
    "        prob_0 = p_ft1_0 * p_ft2_0 * 0.5\n",
    "        p_ft1_1 = guassian(test_feature1_digit0[i],Mean_of_feature1_for_digit1,Variance_of_feature1_for_digit1)\n",
    "        p_ft2_1 = guassian(test_feature2_digit0[i],Mean_of_feature2_for_digit1,Variance_of_feature2_for_digit1)\n",
    "        prob_1 = p_ft1_1 * p_ft2_1 * 0.5\n",
    "        if prob_0 > prob_1:\n",
    "            count_0 += 1\n",
    "    \n",
    "    count_1 = 0\n",
    "    for i in range(len(test_feature1_digit1)):\n",
    "        p_ft1_0 = guassian(test_feature1_digit1[i],Mean_of_feature1_for_digit0,Variance_of_feature1_for_digit0)\n",
    "        p_ft2_0 = guassian(test_feature2_digit1[i],Mean_of_feature2_for_digit0,Variance_of_feature2_for_digit0)\n",
    "        prob_0 = p_ft1_0 * p_ft2_0 * 0.5\n",
    "        p_ft1_1 = guassian(test_feature1_digit1[i],Mean_of_feature1_for_digit1,Variance_of_feature1_for_digit1)\n",
    "        p_ft2_1 = guassian(test_feature2_digit1[i],Mean_of_feature2_for_digit1,Variance_of_feature2_for_digit1)\n",
    "        prob_1 = p_ft1_1 * p_ft2_1 * 0.5\n",
    "        if prob_0 < prob_1:\n",
    "            count_1 += 1\n",
    "\n",
    "                \n",
    "    Accuracy_for_digit0testset = count_0/980\n",
    "    Accuracy_for_digit1testset = count_1/1135\n",
    "\n",
    "    print([Mean_of_feature1_for_digit0, Variance_of_feature1_for_digit0, \n",
    "           Mean_of_feature2_for_digit0, Variance_of_feature2_for_digit0, \n",
    "           Mean_of_feature1_for_digit1, Variance_of_feature1_for_digit1,\n",
    "           Mean_of_feature2_for_digit1, Variance_of_feature2_for_digit1,\n",
    "           Accuracy_for_digit0testset, Accuracy_for_digit1testset])\n",
    "\n",
    "\n",
    "if __name__ == '__main__':\n",
    "    main()"
   ]
  },
  {
   "cell_type": "code",
   "execution_count": null,
   "metadata": {},
   "outputs": [],
   "source": []
  }
 ],
 "metadata": {
  "kernelspec": {
   "display_name": "Python 3",
   "language": "python",
   "name": "python3"
  },
  "language_info": {
   "codemirror_mode": {
    "name": "ipython",
    "version": 3
   },
   "file_extension": ".py",
   "mimetype": "text/x-python",
   "name": "python",
   "nbconvert_exporter": "python",
   "pygments_lexer": "ipython3",
   "version": "3.8.2"
  },
  "vscode": {
   "interpreter": {
    "hash": "aee8b7b246df8f9039afb4144a1f6fd8d2ca17a180786b69acc140d282b71a49"
   }
  }
 },
 "nbformat": 4,
 "nbformat_minor": 2
}
